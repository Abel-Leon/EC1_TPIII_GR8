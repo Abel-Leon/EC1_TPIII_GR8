{
 "cells": [
  {
   "cell_type": "code",
   "execution_count": 5,
   "id": "ec25e4b9-7b0b-4979-ae81-a4024b2dee1c",
   "metadata": {},
   "outputs": [],
   "source": [
    "import pandas as pd\n",
    "import numpy as np\n",
    "import matplotlib.pyplot as plt\n",
    "import seaborn as sb\n",
    "\n",
    "dataframe = pd.read_csv('Contraceptive_Limpieza.csv',sep=',')\n",
    "clasificadores = ['No usa','Usa metodos de largo plazo', 'Usa metodos de corto plazo']"
   ]
  },
  {
   "cell_type": "code",
   "execution_count": 7,
   "id": "fbf8d4d9-6874-41bf-b2e7-d1b11edff970",
   "metadata": {},
   "outputs": [
    {
     "data": {
      "text/html": [
       "<div>\n",
       "<style scoped>\n",
       "    .dataframe tbody tr th:only-of-type {\n",
       "        vertical-align: middle;\n",
       "    }\n",
       "\n",
       "    .dataframe tbody tr th {\n",
       "        vertical-align: top;\n",
       "    }\n",
       "\n",
       "    .dataframe thead th {\n",
       "        text-align: right;\n",
       "    }\n",
       "</style>\n",
       "<table border=\"1\" class=\"dataframe\">\n",
       "  <thead>\n",
       "    <tr style=\"text-align: right;\">\n",
       "      <th></th>\n",
       "      <th>Wife's_age</th>\n",
       "      <th>Wife's_education</th>\n",
       "      <th>Husband's_education</th>\n",
       "      <th>Number_of_children_ever_born</th>\n",
       "      <th>Wife's_religion</th>\n",
       "      <th>Wife's_now_working</th>\n",
       "      <th>Husband's_ocupation</th>\n",
       "      <th>Standard_of_living</th>\n",
       "      <th>Media_exposure</th>\n",
       "      <th>Contraceptive</th>\n",
       "    </tr>\n",
       "  </thead>\n",
       "  <tbody>\n",
       "    <tr>\n",
       "      <th>0</th>\n",
       "      <td>24</td>\n",
       "      <td>2</td>\n",
       "      <td>3</td>\n",
       "      <td>3</td>\n",
       "      <td>1</td>\n",
       "      <td>1</td>\n",
       "      <td>2</td>\n",
       "      <td>3</td>\n",
       "      <td>0</td>\n",
       "      <td>1</td>\n",
       "    </tr>\n",
       "    <tr>\n",
       "      <th>1</th>\n",
       "      <td>45</td>\n",
       "      <td>1</td>\n",
       "      <td>3</td>\n",
       "      <td>10</td>\n",
       "      <td>1</td>\n",
       "      <td>1</td>\n",
       "      <td>3</td>\n",
       "      <td>4</td>\n",
       "      <td>0</td>\n",
       "      <td>1</td>\n",
       "    </tr>\n",
       "    <tr>\n",
       "      <th>2</th>\n",
       "      <td>43</td>\n",
       "      <td>2</td>\n",
       "      <td>3</td>\n",
       "      <td>7</td>\n",
       "      <td>1</td>\n",
       "      <td>1</td>\n",
       "      <td>3</td>\n",
       "      <td>4</td>\n",
       "      <td>0</td>\n",
       "      <td>1</td>\n",
       "    </tr>\n",
       "    <tr>\n",
       "      <th>3</th>\n",
       "      <td>42</td>\n",
       "      <td>3</td>\n",
       "      <td>2</td>\n",
       "      <td>9</td>\n",
       "      <td>1</td>\n",
       "      <td>1</td>\n",
       "      <td>3</td>\n",
       "      <td>3</td>\n",
       "      <td>0</td>\n",
       "      <td>1</td>\n",
       "    </tr>\n",
       "    <tr>\n",
       "      <th>4</th>\n",
       "      <td>36</td>\n",
       "      <td>3</td>\n",
       "      <td>3</td>\n",
       "      <td>8</td>\n",
       "      <td>1</td>\n",
       "      <td>1</td>\n",
       "      <td>3</td>\n",
       "      <td>2</td>\n",
       "      <td>0</td>\n",
       "      <td>1</td>\n",
       "    </tr>\n",
       "    <tr>\n",
       "      <th>5</th>\n",
       "      <td>19</td>\n",
       "      <td>4</td>\n",
       "      <td>4</td>\n",
       "      <td>0</td>\n",
       "      <td>1</td>\n",
       "      <td>1</td>\n",
       "      <td>3</td>\n",
       "      <td>3</td>\n",
       "      <td>0</td>\n",
       "      <td>1</td>\n",
       "    </tr>\n",
       "    <tr>\n",
       "      <th>6</th>\n",
       "      <td>38</td>\n",
       "      <td>2</td>\n",
       "      <td>3</td>\n",
       "      <td>6</td>\n",
       "      <td>1</td>\n",
       "      <td>1</td>\n",
       "      <td>3</td>\n",
       "      <td>2</td>\n",
       "      <td>0</td>\n",
       "      <td>1</td>\n",
       "    </tr>\n",
       "    <tr>\n",
       "      <th>7</th>\n",
       "      <td>21</td>\n",
       "      <td>3</td>\n",
       "      <td>3</td>\n",
       "      <td>1</td>\n",
       "      <td>1</td>\n",
       "      <td>0</td>\n",
       "      <td>3</td>\n",
       "      <td>2</td>\n",
       "      <td>0</td>\n",
       "      <td>1</td>\n",
       "    </tr>\n",
       "    <tr>\n",
       "      <th>8</th>\n",
       "      <td>27</td>\n",
       "      <td>2</td>\n",
       "      <td>3</td>\n",
       "      <td>3</td>\n",
       "      <td>1</td>\n",
       "      <td>1</td>\n",
       "      <td>3</td>\n",
       "      <td>4</td>\n",
       "      <td>0</td>\n",
       "      <td>1</td>\n",
       "    </tr>\n",
       "    <tr>\n",
       "      <th>9</th>\n",
       "      <td>45</td>\n",
       "      <td>1</td>\n",
       "      <td>1</td>\n",
       "      <td>8</td>\n",
       "      <td>1</td>\n",
       "      <td>1</td>\n",
       "      <td>2</td>\n",
       "      <td>2</td>\n",
       "      <td>1</td>\n",
       "      <td>1</td>\n",
       "    </tr>\n",
       "  </tbody>\n",
       "</table>\n",
       "</div>"
      ],
      "text/plain": [
       "   Wife's_age  Wife's_education  Husband's_education  \\\n",
       "0          24                 2                    3   \n",
       "1          45                 1                    3   \n",
       "2          43                 2                    3   \n",
       "3          42                 3                    2   \n",
       "4          36                 3                    3   \n",
       "5          19                 4                    4   \n",
       "6          38                 2                    3   \n",
       "7          21                 3                    3   \n",
       "8          27                 2                    3   \n",
       "9          45                 1                    1   \n",
       "\n",
       "   Number_of_children_ever_born  Wife's_religion  Wife's_now_working  \\\n",
       "0                             3                1                   1   \n",
       "1                            10                1                   1   \n",
       "2                             7                1                   1   \n",
       "3                             9                1                   1   \n",
       "4                             8                1                   1   \n",
       "5                             0                1                   1   \n",
       "6                             6                1                   1   \n",
       "7                             1                1                   0   \n",
       "8                             3                1                   1   \n",
       "9                             8                1                   1   \n",
       "\n",
       "   Husband's_ocupation  Standard_of_living  Media_exposure  Contraceptive  \n",
       "0                    2                   3               0              1  \n",
       "1                    3                   4               0              1  \n",
       "2                    3                   4               0              1  \n",
       "3                    3                   3               0              1  \n",
       "4                    3                   2               0              1  \n",
       "5                    3                   3               0              1  \n",
       "6                    3                   2               0              1  \n",
       "7                    3                   2               0              1  \n",
       "8                    3                   4               0              1  \n",
       "9                    2                   2               1              1  "
      ]
     },
     "execution_count": 7,
     "metadata": {},
     "output_type": "execute_result"
    }
   ],
   "source": [
    "dataframe.head(10)"
   ]
  },
  {
   "cell_type": "code",
   "execution_count": 11,
   "id": "fe9d9a44-b91a-49f7-ab04-2a3523e9682c",
   "metadata": {},
   "outputs": [
    {
     "data": {
      "text/plain": [
       "Contraceptive\n",
       "1    629\n",
       "2    333\n",
       "3    511\n",
       "dtype: int64"
      ]
     },
     "execution_count": 11,
     "metadata": {},
     "output_type": "execute_result"
    }
   ],
   "source": [
    "dataframe.groupby('Contraceptive').size()"
   ]
  },
  {
   "cell_type": "code",
   "execution_count": 13,
   "id": "4ea59526-3612-4626-9d8f-9334df3b0e41",
   "metadata": {},
   "outputs": [
    {
     "data": {
      "text/plain": [
       "<seaborn.axisgrid.FacetGrid at 0x1b6bca01430>"
      ]
     },
     "execution_count": 13,
     "metadata": {},
     "output_type": "execute_result"
    },
    {
     "data": {
      "image/png": "[encoded data removed]",
      "text/plain": [
       "<Figure size 211.111x250 with 1 Axes>"
      ]
     },
     "metadata": {},
     "output_type": "display_data"
    }
   ],
   "source": [
    "sb.catplot(x = 'Contraceptive',data=dataframe,kind=\"count\",height=2.5,aspect=.8)"
   ]
  },
  {
   "cell_type": "code",
   "execution_count": 15,
   "id": "df6d85f5-a525-484e-abe0-07ce6e5cc95a",
   "metadata": {},
   "outputs": [],
   "source": [
    "y = dataframe['Contraceptive']\n",
    "x = dataframe.drop('Contraceptive',axis=1)"
   ]
  },
  {
   "cell_type": "code",
   "execution_count": null,
   "id": "cd744ef0-2eaf-445f-a7c9-6529922cb764",
   "metadata": {},
   "outputs": [],
   "source": []
  }
 ],
 "metadata": {
  "kernelspec": {
   "display_name": "Python [conda env:base] *",
   "language": "python",
   "name": "conda-base-py"
  },
  "language_info": {
   "codemirror_mode": {
    "name": "ipython",
    "version": 3
   },
   "file_extension": ".py",
   "mimetype": "text/x-python",
   "name": "python",
   "nbconvert_exporter": "python",
   "pygments_lexer": "ipython3",
   "version": "3.12.7"
  }
 },
 "nbformat": 4,
 "nbformat_minor": 5
}
