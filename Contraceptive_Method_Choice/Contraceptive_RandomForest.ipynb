{
 "cells": [
  {
   "cell_type": "markdown",
   "id": "e9cdcd9d-37be-41f6-820f-0751c3cb18f1",
   "metadata": {},
   "source": [
    "## EC1\n",
    " Integrantes:\n",
    " - Gamero Palacios, Diego Armando\n",
    " - Leon Flores, Abel Giankrlo"
   ]
  },
  {
   "cell_type": "code",
   "execution_count": null,
   "id": "f3b44358-d6af-4813-8546-2bc73f00f961",
   "metadata": {},
   "outputs": [],
   "source": []
  }
 ],
 "metadata": {
  "kernelspec": {
   "display_name": "Python 3 (ipykernel)",
   "language": "python",
   "name": "python3"
  },
  "language_info": {
   "codemirror_mode": {
    "name": "ipython",
    "version": 3
   },
   "file_extension": ".py",
   "mimetype": "text/x-python",
   "name": "python",
   "nbconvert_exporter": "python",
   "pygments_lexer": "ipython3",
   "version": "3.12.7"
  }
 },
 "nbformat": 4,
 "nbformat_minor": 5
}
